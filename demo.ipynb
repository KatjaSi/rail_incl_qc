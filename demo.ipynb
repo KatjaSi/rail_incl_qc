{
 "cells": [
  {
   "cell_type": "code",
   "execution_count": 110,
   "metadata": {},
   "outputs": [],
   "source": [
    "import numpy as np\n",
    "import pandas as pd"
   ]
  },
  {
   "cell_type": "code",
   "execution_count": 76,
   "metadata": {},
   "outputs": [],
   "source": [
    "def update_df_from_edit(df: pd.DataFrame, edits: pd.DataFrame) -> pd.DataFrame:\n",
    "    out = df.copy().reset_index(drop=True)\n",
    "    for rid, col, val in edits[[\"row_id\",\"column\",\"new_value\"]].itertuples(index=False):\n",
    "        out.loc[int(rid), col] = val\n",
    "    return out"
   ]
  },
  {
   "cell_type": "code",
   "execution_count": 142,
   "metadata": {},
   "outputs": [],
   "source": [
    "df = pd.read_parquet(\"w_incl_25_06_dedup_v4_corrected_07_3.parquet.gzip\")"
   ]
  },
  {
   "cell_type": "code",
   "execution_count": 143,
   "metadata": {},
   "outputs": [],
   "source": [
    "edits = pd.read_csv(\"edits/edits_06_25_08_1.csv\")"
   ]
  },
  {
   "cell_type": "code",
   "execution_count": 144,
   "metadata": {},
   "outputs": [],
   "source": [
    "if not pd.api.types.is_datetime64_any_dtype(edits[\"timestamp_utc\"]):\n",
    "    edits[\"timestamp_utc\"] = pd.to_datetime(edits[\"timestamp_utc\"], utc=True)\n",
    "\n",
    "idx = edits.groupby([\"row_id\", \"pole_id\", \"column\"])[\"timestamp_utc\"].idxmax()\n",
    "edits_latest = (edits.loc[idx]\n",
    "                   .sort_values([\"row_id\", \"pole_id\", \"column\"])\n",
    "                   .reset_index(drop=True))"
   ]
  },
  {
   "cell_type": "code",
   "execution_count": 145,
   "metadata": {},
   "outputs": [],
   "source": [
    "updated_df = update_df_from_edit(df, edits_latest)"
   ]
  },
  {
   "cell_type": "code",
   "execution_count": 146,
   "metadata": {},
   "outputs": [],
   "source": [
    "mask = updated_df[\"misplacement\"].isna() & updated_df[\"rail_incl_corrected\"].notna() & updated_df[\"rail_incl_corrected\"].notna() & updated_df.pole_id.isin(edits.pole_id.to_list())\n",
    "updated_df.loc[mask, \"misplacement\"] = (\n",
    "    updated_df[\"shoulder_height\"] * np.tan(np.deg2rad(updated_df[\"rail_incl_corrected\"]))\n",
    ")"
   ]
  },
  {
   "cell_type": "code",
   "execution_count": 147,
   "metadata": {},
   "outputs": [],
   "source": [
    "updated_df.to_parquet(\"w_incl_25_06_dedup_v4_corrected_08_1.parquet.gzip\")"
   ]
  },
  {
   "cell_type": "code",
   "execution_count": null,
   "metadata": {},
   "outputs": [],
   "source": []
  }
 ],
 "metadata": {
  "kernelspec": {
   "display_name": "incl_qc",
   "language": "python",
   "name": "python3"
  },
  "language_info": {
   "codemirror_mode": {
    "name": "ipython",
    "version": 3
   },
   "file_extension": ".py",
   "mimetype": "text/x-python",
   "name": "python",
   "nbconvert_exporter": "python",
   "pygments_lexer": "ipython3",
   "version": "3.13.5"
  }
 },
 "nbformat": 4,
 "nbformat_minor": 2
}
